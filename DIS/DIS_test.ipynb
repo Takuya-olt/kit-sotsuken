{
 "cells": [
  {
   "attachments": {},
   "cell_type": "markdown",
   "id": "a7cff6c7-321c-4784-a489-8fc2093983db",
   "metadata": {},
   "source": [
    "## 問題識別器の準備"
   ]
  },
  {
   "cell_type": "code",
   "execution_count": 1,
   "id": "075f8a47-3cef-42b6-92ec-824810ad599f",
   "metadata": {},
   "outputs": [],
   "source": [
    "INPUT_MAX_LEN=512\n",
    "TEST_DATASET = \"./data/test.csv\"\n",
    "PRETRAINED_MODEL_NAME = \"cl-tohoku/bert-base-japanese-char-whole-word-masking\"\n",
    "DIS_CHECKPOINT = \"./checkpoint/best_loss_epoch=2.ckpt\""
   ]
  },
  {
   "cell_type": "code",
   "execution_count": 2,
   "id": "d1ebc7ce-2417-46d7-80ce-f5377215cf80",
   "metadata": {},
   "outputs": [],
   "source": [
    "import pandas as pd\n",
    "from transformers import AutoTokenizer\n",
    "import torch\n",
    "from torch import optim\n",
    "from torch import nn\n",
    "import pytorch_lightning as pl"
   ]
  },
  {
   "cell_type": "code",
   "execution_count": 3,
   "id": "c8aa36ce-5deb-4299-b891-1003832c3bda",
   "metadata": {},
   "outputs": [],
   "source": [
    "class FineTuneBert(pl.LightningModule):\n",
    "    def __init__(self, model_name_or_path, n_classes, n_epochs=None):\n",
    "        super().__init__()\n",
    "\n",
    "        self.model = BertModel.from_pretrained(model_name_or_path, return_dict=True)\n",
    "        self.classifier = nn.Linear(self.model.config.hidden_size, n_classes)\n",
    "        self.n_epoch = n_epochs\n",
    "        self.criterion = nn.CrossEntropyLoss()\n",
    "\n",
    "        ## BertLayerモジュールの最後を勾配計算ありに変更\n",
    "        for param in self.model.parameters():\n",
    "            param.requires_grad = False\n",
    "        for param in self.model.encoder.layer[-1].parameters():\n",
    "            param.requires_grad = True\n",
    "\n",
    "    def forward(self, input_ids, attention_mask, labels=None):\n",
    "        output = self.model(input_ids, attention_mask=attention_mask)\n",
    "        preds = self.classifier(output.pooler_output)\n",
    "        loss = 0\n",
    "        if labels is not None:\n",
    "            loss = self.criterion(preds, labels)\n",
    "\n",
    "        return loss, preds"
   ]
  },
  {
   "cell_type": "code",
   "execution_count": 4,
   "id": "8ad5fdff-017e-4ee9-b08c-b009a8147780",
   "metadata": {},
   "outputs": [
    {
     "name": "stderr",
     "output_type": "stream",
     "text": [
      "/home/studio-lab-user/.conda/envs/default/lib/python3.9/site-packages/torch/cuda/__init__.py:52: UserWarning: CUDA initialization: Found no NVIDIA driver on your system. Please check that you have an NVIDIA GPU and installed a driver from http://www.nvidia.com/Download/index.aspx (Triggered internally at  /pytorch/c10/cuda/CUDAFunctions.cpp:100.)\n",
      "  return torch._C._cuda_getDeviceCount() > 0\n"
     ]
    }
   ],
   "source": [
    "import torch\n",
    "from transformers import BertModel, AutoTokenizer\n",
    "from torchvision import models\n",
    "\n",
    "# トークナイザー\n",
    "tokenizer = AutoTokenizer.from_pretrained(PRETRAINED_MODEL_NAME)\n",
    "\n",
    "# 学習済モデル\n",
    "trained_model = FineTuneBert(PRETRAINED_MODEL_NAME, n_classes=2)\n",
    "checkpoint = torch.load(DIS_CHECKPOINT, map_location=torch.device('cpu'))\n",
    "trained_model.load_state_dict(checkpoint[\"state_dict\"])\n",
    "\n",
    "# GPU利用の有無\n",
    "USE_GPU = torch.cuda.is_available()\n",
    "if USE_GPU:\n",
    "    trained_model.cuda()"
   ]
  },
  {
   "attachments": {},
   "cell_type": "markdown",
   "id": "84aa0c9f",
   "metadata": {},
   "source": [
    "## データセットの準備"
   ]
  },
  {
   "cell_type": "code",
   "execution_count": 5,
   "id": "ee67be04-ad73-49fd-ab88-cfe58858a464",
   "metadata": {},
   "outputs": [],
   "source": [
    "import pandas as pd\n",
    "\n",
    "# データセットの読み込み\n",
    "df = pd.read_csv(TEST_DATASET)"
   ]
  },
  {
   "attachments": {},
   "cell_type": "markdown",
   "id": "c64e77d1",
   "metadata": {},
   "source": [
    "## 問題識別"
   ]
  },
  {
   "cell_type": "code",
   "execution_count": 6,
   "id": "0fb34c4b-4866-4e29-bc83-8ed43bad23a2",
   "metadata": {},
   "outputs": [
    {
     "name": "stdout",
     "output_type": "stream",
     "text": [
      "pred: 1, ans: 1\n",
      "次の文章は正しいか答えなさい。ネットワークを利用したサイバー犯罪には次のような特徴がある。1.匿名性が高い2.痕跡が残りやすい3.不特定多数が被害を受ける4.時間と空間の制約がある\n",
      "pred: 1, ans: 1\n",
      "以下の文章は正しいか答えてください。数式に表すことも一種のモデル化である。\n",
      "pred: 1, ans: 1\n",
      "統合技法とはどのような方法ですか?\n",
      "pred: 1, ans: 1\n",
      "次の文章は正しいか答えなさい。特許権、実用新案権、意匠権を総称して産業財産権という。\n",
      "pred: 1, ans: 1\n",
      "次の文章は正しいか答えよ。クレジットカードでは使用者は利用前に支払いを行う。\n",
      "pred: 1, ans: 1\n",
      "産業財産権にはどのようなものがありますか\n",
      "pred: 1, ans: 1\n",
      "次の文章は正しいか答えなさい。一般利用者が情報システムを利用するにあたり、設定するパスワードは通常、英数字、記号などを組み合わせ、他の人に容易に推測されない複雑なものにする必要がある。\n",
      "pred: 1, ans: 1\n",
      "キャッシュレス化が進む中国や韓国ではどのような決済方法が利用されていますか\n",
      "pred: 1, ans: 1\n",
      "次の文章は正しいか答えなさい。態度技法は集めたデータをまとめていくことで有効な情報を形成していき、ロールプレイング、ワールドカフェがその代表である。\n",
      "pred: 1, ans: 1\n",
      "サミュエル・d・ウォーレンスとルイス・d・ブランダイスはどのような権利を主張したか?\n",
      "pred: 1, ans: 0\n",
      "コンピュータでは何ビットで表現できますか?\n",
      "pred: 1, ans: 1\n",
      "次の文章は正しいですか?ベクタ系画像処理ソフトでは、円や長方形などの図形はオブジェクトという一つの塊として描画される。\n",
      "pred: 1, ans: 1\n",
      "次の文章は正しいか答えなさい。教育を担任する者、授業を受ける者は、授業の過程で利用するために著作物を複製することが違法になる。\n",
      "pred: 1, ans: 1\n",
      "サミュエル・d・ウォーレンスとルイス・d・ブランダイスは19世紀末に何を主張したか\n",
      "pred: 1, ans: 1\n",
      "次の文章は正しいか答えなさい。ssdのかわりにハードディスクを使うとコンピュータの実質的な動作速度を上げることができる。\n",
      "pred: 1, ans: 1\n",
      "連続する量を一定間隔ごとに区切り,数値を用いて表す方法は何ですか\n",
      "pred: 1, ans: 1\n",
      "ic乗車券や電子マネーにはどのような技術が使われているのだろうか\n",
      "pred: 1, ans: 1\n",
      "リチャード・ソール・ウーマンが提唱した情報の整理の基準として用いられているものは何か。\n",
      "pred: 1, ans: 1\n",
      "次の文章は正しいか答えなさい。インターネットの通信において、通信する際の規定を定めたものをインターネットプロトコルという。\n",
      "pred: 1, ans: 1\n",
      "電子マネーとは何ですか?\n",
      "pred: 1, ans: 1\n",
      "次の文章は正しいか答えなさい。情報の代表的な特性は「形がない」、「消える」、「簡単に複製できる」、「容易に伝播する」である。\n",
      "pred: 1, ans: 1\n",
      "リチャード・ソール・ワーマンが提唱した情報の構造化の基準は何か\n",
      "pred: 1, ans: 1\n",
      "2006年制定のjis q 13335-1では、情報セキュリティにはどのような要素が追加されていますか\n",
      "pred: 1, ans: 1\n",
      "次の文章は正しいか答えなさい。ベクタ系画像処理ソフトでは、円や長方形などの図形はオブジェクトという一つの塊として描画され、縮小・変形しても画質は劣化しない。\n",
      "pred: 1, ans: 1\n",
      "リスト内のデータから最小値を探索し、最小値から順に取り出すことで並べ替えを実現するアルゴリズムは何か\n",
      "pred: 1, ans: 1\n",
      "連続する量を一定間隔ごとに区切り,数値を用いて表す方法は何であるか\n",
      "pred: 1, ans: 1\n",
      "人間の幅広い知的創造活動の成果について,その創作者に一定期間の権利保護を与えるようにした制度をなんという?\n",
      "pred: 1, ans: 1\n",
      "次の文章は正しいか答えなさい。態度技法は集めたデータをまとめていくことで有効な情報を形成していき、ロールプレイング、ワールドカフェがその代表である。\n",
      "pred: 1, ans: 1\n",
      "次の文章は正しいか答えなさい。態度技法は何集めたデータをまとめていくことで有効な情報を形成していく方法であり、ロールプレイング、ワールドカフェがその代表である。\n",
      "pred: 1, ans: 1\n",
      "次の文章は正しいか答えなさい。情報技術の発展が社会へのコミュニケーションの利便性を高め人の生活を豊かにさせる反面、情報格差、健康への影響、いじめや犯罪に巻き込まれるなどの負の側面も生じる。\n",
      "pred: 1, ans: 1\n",
      "次の文章は正しいか答えなさい。一般の利用者が情報システムを利用するにあたり、設定するパスワードは通常、英数字、記号などを組み合わせ、他の人に簡単に推測されない複雑なものにする必要がある。\n",
      "pred: 1, ans: 1\n",
      "webapiとは何か。\n",
      "pred: 1, ans: 1\n",
      "コンピュータでは,日本語は1文字あたり何bitで表現できますか?\n",
      "pred: 1, ans: 1\n",
      "アナログ情報をデジタル情報に変換する際,それぞれの値にあらかじめ定めた段階値を割り当てる処理を何というか\n",
      "pred: 1, ans: 0\n",
      "次の文章は正しいか答えなさい。特許権、実用新案権を総称して産業財産権という。\n",
      "pred: 1, ans: 1\n",
      "次の文章は正しいか答えなさい。ネットワークを利用したサイバー犯罪には次のような特徴がある。1.匿名性が高い2.痕跡が残りにくい3.不特定多数が被害を受ける4.時間と空間の制約がある\n",
      "pred: 1, ans: 1\n",
      "次の文章は正しいか答えなさい。知的財産権は、申請が必要な産業に関する産業財産権と、申請を必要とする文化や芸術に関する著作権に大きく分けられる。\n",
      "pred: 1, ans: 1\n",
      "次の文章は正しいか答えなさい。シグニファイアがデザインされたユーザインタフェースは、利用者が得られる体験の向上をもたらすため、情報デザインの重要性は一層増している。\n"
     ]
    }
   ],
   "source": [
    "trained_model.eval()\n",
    "\n",
    "for index, row in df.iterrows():\n",
    "    question = row[\"question\"]\n",
    "    answer = row[\"answer\"]\n",
    "    label = row[\"tf\"]\n",
    "\n",
    "    input = question + \"答えは\" + answer\n",
    "\n",
    "    ## tokenize\n",
    "    tokenized_input = tokenizer.batch_encode_plus(\n",
    "        [input],\n",
    "        max_length=INPUT_MAX_LEN,\n",
    "        truncation=True,\n",
    "        add_special_tokens=True,\n",
    "        padding=\"longest\",\n",
    "        return_tensors=\"pt\"\n",
    "    )\n",
    "\n",
    "    input_ids = tokenized_input[\"input_ids\"]\n",
    "    input_mask = tokenized_input[\"attention_mask\"]\n",
    "\n",
    "    ## デバイスの指定\n",
    "    if torch.cuda.is_available():\n",
    "        input_ids = input_ids.cuda()\n",
    "        input_mask = input_mask.cuda()\n",
    "\n",
    "    ## 識別\n",
    "    with torch.no_grad():\n",
    "        _, score = trained_model(input_ids, input_mask)\n",
    "        pred = torch.argmax(score)\n",
    "        if pred == 1:\n",
    "            print(f\"pred: {pred}, ans: {label}\")\n",
    "            print(question)"
   ]
  }
 ],
 "metadata": {
  "kernelspec": {
   "display_name": "default:Python",
   "language": "python",
   "name": "conda-env-default-py"
  },
  "language_info": {
   "codemirror_mode": {
    "name": "ipython",
    "version": 3
   },
   "file_extension": ".py",
   "mimetype": "text/x-python",
   "name": "python",
   "nbconvert_exporter": "python",
   "pygments_lexer": "ipython3",
   "version": "3.9.13"
  }
 },
 "nbformat": 4,
 "nbformat_minor": 5
}
