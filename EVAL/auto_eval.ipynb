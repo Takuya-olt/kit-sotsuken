{
 "cells": [
  {
   "cell_type": "markdown",
   "metadata": {},
   "source": [
    "## install"
   ]
  },
  {
   "cell_type": "code",
   "execution_count": 1,
   "metadata": {
    "colab": {
     "base_uri": "https://localhost:8080/"
    },
    "id": "p8dsD8GxrbuO",
    "outputId": "bb9e3ad1-b3b8-4a11-d9ad-2f9973d816d4"
   },
   "outputs": [],
   "source": [
    "## mlm-scoring\n",
    "# !git clone https://github.com/Ryutaro-A/mlm-scoring-transformers.git mlm_scoring_transformers\n",
    "# !cd ./mlm_scoring_transformers && pip install ."
   ]
  },
  {
   "cell_type": "code",
   "execution_count": 2,
   "metadata": {
    "colab": {
     "base_uri": "https://localhost:8080/"
    },
    "id": "_c_4_01myJxM",
    "outputId": "0d0067db-5b04-4028-d409-e451acf9996b"
   },
   "outputs": [],
   "source": [
    "# !pip install -qU torch==1.7.1 torchtext==0.8.0 torchvision==0.8.2 torchaudio==0.7.2\n",
    "# !pip install fugashi\n",
    "# !pip install ipadic\n",
    "# !pip install pandas"
   ]
  },
  {
   "attachments": {},
   "cell_type": "markdown",
   "metadata": {},
   "source": [
    "## setup"
   ]
  },
  {
   "cell_type": "code",
   "execution_count": null,
   "metadata": {},
   "outputs": [],
   "source": [
    "from mlm_scoring_transformers.mlmt import scorer as mlmt\n",
    "\n",
    "# 事前学習済みモデルに'bert-base-uncased'を選択\n",
    "pretrained_model_name = 'cl-tohoku/bert-base-japanese-whole-word-masking'\n",
    "\n",
    "# PLL計算のためのインスタンスを作成\n",
    "scorer = mlmt.MLMScorer(pretrained_model_name, use_cuda=False)"
   ]
  },
  {
   "attachments": {},
   "cell_type": "markdown",
   "metadata": {},
   "source": [
    "## scoring"
   ]
  },
  {
   "cell_type": "code",
   "execution_count": 2,
   "metadata": {},
   "outputs": [],
   "source": [
    "import pandas as pd\n",
    "\n",
    "def scoring(path_list, filename):\n",
    "    sentences = pd.concat([pd.read_csv(path) for path in path_list])\n",
    "    sentences = sentences[\"question\"]\n",
    "    scores = scorer.score_sentences(sentences, get_average_likelihood=True)\n",
    "    \n",
    "    ## １つのDataFrameに結合\n",
    "    df1 = pd.DataFrame(sentences)\n",
    "    df2 = pd.DataFrame(scores, columns=[\"score\"])\n",
    "    df = pd.concat([df1, df2], axis=1)\n",
    "    \n",
    "    ## to csv\n",
    "    df.to_csv(\"./score/\" + filename + \".csv\")\n",
    "    \n",
    "    ## output average\n",
    "    print(df.mean(numeric_only=True))\n",
    "    \n",
    "    return"
   ]
  },
  {
   "cell_type": "code",
   "execution_count": 6,
   "metadata": {
    "colab": {
     "base_uri": "https://localhost:8080/"
    },
    "id": "Ma-S7QN05laL",
    "outputId": "4d136a94-a98b-489a-f73b-8bd15ddb74e3"
   },
   "outputs": [],
   "source": [
    "import pandas as pd\n",
    "import glob\n",
    "\n",
    "proposal_path_list = glob.glob(\"./generated/pipeline.csv\")\n",
    "conventional_path_list = glob.glob(\"./generated/T5.csv\")"
   ]
  },
  {
   "cell_type": "code",
   "execution_count": 7,
   "metadata": {},
   "outputs": [
    {
     "name": "stdout",
     "output_type": "stream",
     "text": [
      "score   -2.36949\n",
      "dtype: float64\n",
      "score   -2.357278\n",
      "dtype: float64\n"
     ]
    }
   ],
   "source": [
    "scoring(conventional_path_list, \"T5_tohoku_bert_word_mask\")\n",
    "scoring(proposal_path_list, \"pipeline_tohoku_bert_word_mask\")\n",
    "\n",
    "## tohoku whole word masking\n",
    "# T5   -2.36949\n",
    "# pipeline   -2.357278"
   ]
  }
 ],
 "metadata": {
  "colab": {
   "provenance": []
  },
  "kernelspec": {
   "display_name": "default:Python",
   "language": "python",
   "name": "conda-env-default-py"
  },
  "language_info": {
   "codemirror_mode": {
    "name": "ipython",
    "version": 3
   },
   "file_extension": ".py",
   "mimetype": "text/x-python",
   "name": "python",
   "nbconvert_exporter": "python",
   "pygments_lexer": "ipython3",
   "version": "3.9.13"
  }
 },
 "nbformat": 4,
 "nbformat_minor": 4
}
